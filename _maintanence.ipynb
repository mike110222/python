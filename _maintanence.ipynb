{
 "cells": [
  {
   "cell_type": "markdown",
   "metadata": {},
   "source": [
    "_Control"
   ]
  },
  {
   "cell_type": "code",
   "execution_count": 4,
   "metadata": {},
   "outputs": [],
   "source": [
    "%reset -f"
   ]
  },
  {
   "cell_type": "markdown",
   "metadata": {},
   "source": [
    "Datasets\n"
   ]
  },
  {
   "cell_type": "code",
   "execution_count": null,
   "metadata": {},
   "outputs": [],
   "source": [
    "%%\n",
    "Checkpoints \"\\\\Users\\\\micha\\\\OneDrive\\\\Current\\\\Programming\\\\checkpoints\\\\\" file:///Users/micha/OneDrive/Current/Programming/checkpoints\n",
    "MNIST C:\\Users\\micha\\OneDrive\\Current\\Programming\\datasets\\MNIST\n",
    "FashionMNIST\n",
    "CelebA"
   ]
  },
  {
   "cell_type": "markdown",
   "metadata": {},
   "source": [
    "Temp Code"
   ]
  },
  {
   "cell_type": "code",
   "execution_count": 31,
   "metadata": {},
   "outputs": [],
   "source": [
    "import torchvision\n",
    "ds = torchvision.datasets.EMNIST(\"./datasets\",split='byclass', download=True)"
   ]
  },
  {
   "cell_type": "code",
   "execution_count": 19,
   "metadata": {},
   "outputs": [
    {
     "name": "stdout",
     "output_type": "stream",
     "text": [
      "1.633123935319537e+16\n",
      "<module 'ntpath' (frozen)>\n"
     ]
    }
   ],
   "source": [
    "print(np.tan(np.pi/2))\n",
    "print(os.path)"
   ]
  },
  {
   "cell_type": "markdown",
   "metadata": {},
   "source": [
    "Testing"
   ]
  },
  {
   "cell_type": "code",
   "execution_count": 1,
   "metadata": {},
   "outputs": [
    {
     "data": {
      "text/plain": [
       "'a'"
      ]
     },
     "execution_count": 1,
     "metadata": {},
     "output_type": "execute_result"
    }
   ],
   "source": [
    "\"a\""
   ]
  },
  {
   "cell_type": "code",
   "execution_count": 24,
   "metadata": {},
   "outputs": [
    {
     "name": "stdout",
     "output_type": "stream",
     "text": [
      "[CpuDevice(id=0)]\n",
      "True\n",
      "[PhysicalDevice(name='/physical_device:CPU:0', device_type='CPU'), PhysicalDevice(name='/physical_device:GPU:0', device_type='GPU')]\n"
     ]
    }
   ],
   "source": [
    "import jax\n",
    "import torch\n",
    "import tensorflow\n",
    "\n",
    "print(jax.devices('cpu'))\n",
    "print(torch.cuda.is_available())\n",
    "print(tensorflow.config.list_physical_devices())"
   ]
  },
  {
   "cell_type": "code",
   "execution_count": null,
   "metadata": {},
   "outputs": [],
   "source": [
    "import jax.numpy as jnp\n",
    "import torch\n",
    "import torchvision.transforms\n",
    "import numpy as np\n",
    "import sympy as sp\n",
    "import flax\n",
    "import optax\n",
    "import matplotlib as mpl\n",
    "import pandas as pd\n",
    "\n",
    "import tensorflow as tf\n",
    "from torch.utils.data import DataLoader\n",
    "from torchvision.datasets import CelebA\n",
    "\n",
    "#import keras\n",
    "\n",
    "from probml_utils.conv_vae_flax_utils import create_train_state, train_step, test_step, decode"
   ]
  },
  {
   "cell_type": "code",
   "execution_count": 2,
   "metadata": {},
   "outputs": [],
   "source": [
    "import os\n",
    "\n",
    "# Specify the directory path you want to create\n",
    "folder_path = \"pathtofolder\"\n",
    "\n",
    "# Create the directory\n",
    "os.makedirs(folder_path, exist_ok=True) "
   ]
  },
  {
   "cell_type": "markdown",
   "metadata": {},
   "source": [
    "Template Code"
   ]
  },
  {
   "cell_type": "code",
   "execution_count": 1,
   "metadata": {},
   "outputs": [
    {
     "name": "stdout",
     "output_type": "stream",
     "text": [
      "a\n",
      "a\n",
      "a\n",
      "a\n",
      "a\n",
      "a\n",
      "a\n",
      "a\n"
     ]
    }
   ],
   "source": [
    "print(\"a\")\n",
    "print(\"a\")\n",
    "print(\"a\")\n",
    "print(\"a\")\n",
    "print(\"a\")\n",
    "print(\"a\")\n",
    "print(\"a\")\n",
    "print(\"a\")\n"
   ]
  }
 ],
 "metadata": {
  "kernelspec": {
   "display_name": "env02",
   "language": "python",
   "name": "python3"
  },
  "language_info": {
   "codemirror_mode": {
    "name": "ipython",
    "version": 3
   },
   "file_extension": ".py",
   "mimetype": "text/x-python",
   "name": "python",
   "nbconvert_exporter": "python",
   "pygments_lexer": "ipython3",
   "version": "3.11.10"
  }
 },
 "nbformat": 4,
 "nbformat_minor": 2
}
