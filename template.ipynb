{
 "cells": [
  {
   "cell_type": "markdown",
   "metadata": {},
   "source": [
    "_Control"
   ]
  },
  {
   "cell_type": "code",
   "execution_count": null,
   "metadata": {},
   "outputs": [],
   "source": [
    "%reset -f"
   ]
  },
  {
   "cell_type": "code",
   "execution_count": 1,
   "metadata": {},
   "outputs": [],
   "source": [
    "#import\n",
    "import os\n",
    "import numpy as np\n",
    "import sympy as sp\n",
    "import matplotlib as mpl\n",
    "import pandas as pd\n",
    "import jax\n",
    "import jax.numpy as jnp\n",
    "\n",
    "dspath=\"./datasets\""
   ]
  },
  {
   "cell_type": "code",
   "execution_count": 3,
   "metadata": {},
   "outputs": [],
   "source": [
    "def dummyf(x):\n",
    "\treturn x**2"
   ]
  },
  {
   "cell_type": "markdown",
   "metadata": {},
   "source": [
    "_Notes"
   ]
  },
  {
   "cell_type": "code",
   "execution_count": null,
   "metadata": {},
   "outputs": [],
   "source": [
    "#matplotlib\n",
    "import matplotlib.pyplot as plt\n",
    "import numpy as np\n",
    "\n",
    "\"\"\"\n",
    "for i in range(decoded.shape[0]):\n",
    "\n",
    "    array=decoded[i,0,:,:,0]\n",
    "    \n",
    "    # Plot the array as a grayscale image\n",
    "    plt.imshow(array, cmap='gray')\n",
    "\n",
    "    plt.colorbar()  # Add a color bar to the side for reference\n",
    "    plt.title('Grayscale Image of 128x128 Array')\n",
    "    plt.show()\n",
    "\"\"\"\n",
    "\n",
    "fig, axes = plt.subplots(10, 6, figsize=(12, 15))\n",
    "for i in range(10):\n",
    "\tfor j in range(6):\n",
    "\t\tarray=decoded[6*i+j,0,:,:,0]\n",
    "\t\taxes[i, j].imshow(array, cmap='gray')\n",
    "\t\taxes[i, j].set_title(f\"Plot {6*i+j+1}\")\n",
    "plt.tight_layout()\n",
    "plt.show()"
   ]
  },
  {
   "cell_type": "code",
   "execution_count": 7,
   "metadata": {
    "notebookRunGroups": {
     "groupValue": "1"
    }
   },
   "outputs": [
    {
     "data": {
      "text/plain": [
       "'/home/mike_1102/python/checkpoints/TEST/_ARRAY_1'"
      ]
     },
     "execution_count": 7,
     "metadata": {},
     "output_type": "execute_result"
    }
   ],
   "source": [
    "# jax checkpoints\n",
    "import jax.numpy as jnp\n",
    "from flax.training import checkpoints\n",
    "import os\n",
    "ckpt_dir = os.getcwd()+\"/checkpoints/TEST\"\n",
    "\n",
    "restored={}\n",
    "state = {'a':jnp.ones(16)}\n",
    "#restored = checkpoints.restore_checkpoint(ckpt_dir, state, prefix=f\"_ARRAY_\")\n",
    "\n",
    "checkpoints.save_checkpoint(ckpt_dir, state, 1, prefix=f\"_ARRAY_\", keep=5, overwrite=True)"
   ]
  },
  {
   "cell_type": "code",
   "execution_count": 5,
   "metadata": {},
   "outputs": [
    {
     "name": "stdout",
     "output_type": "stream",
     "text": [
      "<function dummyf at 0x7f3f57b43f60>\n"
     ]
    }
   ],
   "source": [
    "def compact(func):\n",
    "\tfunc.compact=True\n",
    "\treturn func\n",
    "\n",
    "a0=compact(dummyf)\n",
    "print(a0)"
   ]
  },
  {
   "cell_type": "code",
   "execution_count": null,
   "metadata": {},
   "outputs": [],
   "source": [
    "print(func(3))"
   ]
  }
 ],
 "metadata": {
  "kernelspec": {
   "display_name": "env02",
   "language": "python",
   "name": "python3"
  },
  "language_info": {
   "codemirror_mode": {
    "name": "ipython",
    "version": 3
   },
   "file_extension": ".py",
   "mimetype": "text/x-python",
   "name": "python",
   "nbconvert_exporter": "python",
   "pygments_lexer": "ipython3",
   "version": "3.11.10"
  }
 },
 "nbformat": 4,
 "nbformat_minor": 2
}
